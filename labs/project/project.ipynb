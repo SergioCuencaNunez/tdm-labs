{
 "cells": [
  {
   "cell_type": "markdown",
   "metadata": {},
   "source": [
    "#  <span style=\"font-family: Latin Modern Roman; font-size: 35px; font-weight: bold;\"> Proyecto TradeData: Análisis de Datos de Trading de Criptomonedas</span>"
   ]
  },
  {
   "cell_type": "markdown",
   "metadata": {},
   "source": [
    "---"
   ]
  },
  {
   "cell_type": "code",
   "execution_count": null,
   "metadata": {},
   "outputs": [
    {
     "name": "stdout",
     "output_type": "stream",
     "text": [
      "Obteniendo datos de BTCUSDT en BINANCE...\n",
      "Datos de BTCUSDT guardados en BTCUSDT_historical_data.csv\n",
      "Obteniendo datos de ETHUSDT en BINANCE...\n",
      "Datos de ETHUSDT guardados en ETHUSDT_historical_data.csv\n",
      "Obteniendo datos de XRPUSDT en BINANCE...\n",
      "Datos de XRPUSDT guardados en XRPUSDT_historical_data.csv\n",
      "Obteniendo datos de SOLUSDT en BINANCE...\n",
      "Datos de SOLUSDT guardados en SOLUSDT_historical_data.csv\n",
      "Obteniendo datos de DOGEUSDT en BINANCE...\n",
      "Datos de DOGEUSDT guardados en DOGEUSDT_historical_data.csv\n",
      "Obteniendo datos de ADAUSDT en BINANCE...\n",
      "Datos de ADAUSDT guardados en ADAUSDT_historical_data.csv\n",
      "Obteniendo datos de SHIBUSDT en BINANCE...\n",
      "Datos de SHIBUSDT guardados en SHIBUSDT_historical_data.csv\n",
      "Obteniendo datos de DOTUSDT en BINANCE...\n",
      "Datos de DOTUSDT guardados en DOTUSDT_historical_data.csv\n",
      "Obteniendo datos de AAVEUSDT en BINANCE...\n",
      "Datos de AAVEUSDT guardados en AAVEUSDT_historical_data.csv\n",
      "Obteniendo datos de XLMUSDT en BINANCE...\n",
      "Datos de XLMUSDT guardados en XLMUSDT_historical_data.csv\n",
      "¡Proceso completado!\n"
     ]
    }
   ],
   "source": [
    "from TradingviewData import TradingViewData, Interval\n",
    "import pandas as pd\n",
    "\n",
    "cryptos = [\n",
    "    ('BTCUSDT', 'BINANCE'),\n",
    "    ('ETHUSDT', 'BINANCE'),\n",
    "    ('XRPUSDT', 'BINANCE'),\n",
    "    ('SOLUSDT', 'BINANCE'),\n",
    "    ('DOGEUSDT', 'BINANCE'),\n",
    "    ('ADAUSDT', 'BINANCE'),\n",
    "    ('SHIBUSDT', 'BINANCE'),\n",
    "    ('DOTUSDT', 'BINANCE'),\n",
    "    ('AAVEUSDT', 'BINANCE'),\n",
    "    ('XLMUSDT', 'BINANCE')\n",
    "]\n",
    "\n",
    "request = TradingViewData()\n",
    "\n",
    "historical_data = {}\n",
    "\n",
    "for symbol, exchange in cryptos:\n",
    "    print(f\"Obteniendo datos de {symbol} en {exchange}...\")\n",
    "    \n",
    "    data = request.get_hist(\n",
    "        symbol = symbol, \n",
    "        exchange = exchange, \n",
    "        interval = Interval.daily,\n",
    "        n_bars = 1460  # Aproximadamente 4 años (365*4 días)\n",
    "    )\n",
    "    \n",
    "    df = pd.DataFrame(data)\n",
    "    historical_data[symbol] = df\n",
    "\n",
    "    df.to_csv(f\"{symbol}_historical_data.csv\", index = False)\n",
    "    print(f\"Datos de {symbol} guardados en {symbol}_historical_data.csv\")\n",
    "\n",
    "print(\"¡Proceso completado!\")\n"
   ]
  },
  {
   "cell_type": "code",
   "execution_count": null,
   "metadata": {},
   "outputs": [],
   "source": []
  }
 ],
 "metadata": {
  "kernelspec": {
   "display_name": "Python 3",
   "language": "python",
   "name": "python3"
  },
  "language_info": {
   "codemirror_mode": {
    "name": "ipython",
    "version": 3
   },
   "file_extension": ".py",
   "mimetype": "text/x-python",
   "name": "python",
   "nbconvert_exporter": "python",
   "pygments_lexer": "ipython3",
   "version": "3.11.11"
  }
 },
 "nbformat": 4,
 "nbformat_minor": 2
}
