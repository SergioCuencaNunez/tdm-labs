{
 "cells": [
  {
   "cell_type": "markdown",
   "metadata": {},
   "source": [
    "#  <span style=\"font-family: Latin Modern Roman; font-size: 35px; font-weight: bold;\"> Proyecto TradeData: Análisis de Datos de Trading de Criptomonedas</span>"
   ]
  },
  {
   "cell_type": "markdown",
   "metadata": {},
   "source": [
    "---"
   ]
  },
  {
   "cell_type": "markdown",
   "metadata": {},
   "source": [
    "## <span style=\"font-family: Latin Modern Roman; font-size: 25px;\"> Sprint 1 (Historias de Usuario  1 y 2) </span>"
   ]
  },
  {
   "cell_type": "code",
   "execution_count": 7,
   "metadata": {},
   "outputs": [
    {
     "name": "stdout",
     "output_type": "stream",
     "text": [
      "Fetching data for BTCUSDT from BINANCE...\n",
      "Data for BTCUSDT saved in Crypto_Historical_Data/BTCUSDT/BTCUSDT_historical_data.csv\n",
      "Fetching data for ETHUSDT from BINANCE...\n",
      "Data for ETHUSDT saved in Crypto_Historical_Data/ETHUSDT/ETHUSDT_historical_data.csv\n",
      "Fetching data for XRPUSDT from BINANCE...\n",
      "Data for XRPUSDT saved in Crypto_Historical_Data/XRPUSDT/XRPUSDT_historical_data.csv\n",
      "Fetching data for SOLUSDT from BINANCE...\n",
      "Data for SOLUSDT saved in Crypto_Historical_Data/SOLUSDT/SOLUSDT_historical_data.csv\n",
      "Fetching data for DOGEUSDT from BINANCE...\n",
      "Data for DOGEUSDT saved in Crypto_Historical_Data/DOGEUSDT/DOGEUSDT_historical_data.csv\n",
      "Fetching data for ADAUSDT from BINANCE...\n",
      "Data for ADAUSDT saved in Crypto_Historical_Data/ADAUSDT/ADAUSDT_historical_data.csv\n",
      "Fetching data for SHIBUSDT from BINANCE...\n",
      "Data for SHIBUSDT saved in Crypto_Historical_Data/SHIBUSDT/SHIBUSDT_historical_data.csv\n",
      "Fetching data for DOTUSDT from BINANCE...\n",
      "Data for DOTUSDT saved in Crypto_Historical_Data/DOTUSDT/DOTUSDT_historical_data.csv\n",
      "Fetching data for AAVEUSDT from BINANCE...\n",
      "Data for AAVEUSDT saved in Crypto_Historical_Data/AAVEUSDT/AAVEUSDT_historical_data.csv\n",
      "Fetching data for XLMUSDT from BINANCE...\n",
      "Data for XLMUSDT saved in Crypto_Historical_Data/XLMUSDT/XLMUSDT_historical_data.csv\n",
      "Process completed\n"
     ]
    }
   ],
   "source": [
    "import os\n",
    "import pandas as pd\n",
    "from TradingviewData import TradingViewData, Interval\n",
    "\n",
    "cryptos = [\n",
    "    ('BTCUSDT', 'BINANCE'),\n",
    "    ('ETHUSDT', 'BINANCE'),\n",
    "    ('XRPUSDT', 'BINANCE'),\n",
    "    ('SOLUSDT', 'BINANCE'),\n",
    "    ('DOGEUSDT', 'BINANCE'),\n",
    "    ('ADAUSDT', 'BINANCE'),\n",
    "    ('SHIBUSDT', 'BINANCE'),\n",
    "    ('DOTUSDT', 'BINANCE'),\n",
    "    ('AAVEUSDT', 'BINANCE'),\n",
    "    ('XLMUSDT', 'BINANCE')\n",
    "]\n",
    "\n",
    "main_folder = \"Crypto_Historical_Data\"\n",
    "os.makedirs(main_folder, exist_ok = True)\n",
    "\n",
    "request = TradingViewData()\n",
    "\n",
    "historical_data = {}\n",
    "\n",
    "for symbol, exchange in cryptos:\n",
    "    print(f\"Fetching data for {symbol} from {exchange}...\")\n",
    "    \n",
    "    data = request.get_hist(\n",
    "        symbol = symbol, \n",
    "        exchange = exchange, \n",
    "        interval = Interval.daily,\n",
    "        n_bars = 1460\n",
    "    )\n",
    "    \n",
    "    df = pd.DataFrame(data).reset_index()\n",
    "    df['date'] = pd.to_datetime(df['datetime'], unit = 's')\n",
    "    df = df[['date', 'open', 'high', 'low', 'close', 'volume']]\n",
    "\n",
    "    coin_folder = os.path.join(main_folder, symbol)\n",
    "    os.makedirs(coin_folder, exist_ok = True)\n",
    "\n",
    "    file_path = os.path.join(coin_folder, f\"{symbol}_historical_data.csv\")\n",
    "\n",
    "    historical_data[symbol] = df\n",
    "    df.to_csv(file_path, index = False)\n",
    "\n",
    "    print(f\"Data for {symbol} saved in {file_path}\")\n",
    "\n",
    "print(\"Process completed\")"
   ]
  }
 ],
 "metadata": {
  "kernelspec": {
   "display_name": "Python 3",
   "language": "python",
   "name": "python3"
  },
  "language_info": {
   "codemirror_mode": {
    "name": "ipython",
    "version": 3
   },
   "file_extension": ".py",
   "mimetype": "text/x-python",
   "name": "python",
   "nbconvert_exporter": "python",
   "pygments_lexer": "ipython3",
   "version": "3.11.11"
  }
 },
 "nbformat": 4,
 "nbformat_minor": 2
}
