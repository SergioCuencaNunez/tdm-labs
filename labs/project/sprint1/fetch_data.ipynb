{
 "cells": [
  {
   "cell_type": "markdown",
   "metadata": {},
   "source": [
    "#  <span style=\"font-family: Latin Modern Roman; font-size: 35px; font-weight: bold;\"> Proyecto TradeData: Análisis de Datos de Trading de Criptomonedas</span>"
   ]
  },
  {
   "cell_type": "markdown",
   "metadata": {},
   "source": [
    "---"
   ]
  },
  {
   "cell_type": "markdown",
   "metadata": {},
   "source": [
    "## <span style=\"font-family: Latin Modern Roman; font-size: 25px;\"> Sprint 1 (Historias de Usuario  1 y 2) </span>"
   ]
  },
  {
   "cell_type": "code",
   "execution_count": null,
   "metadata": {},
   "outputs": [
    {
     "name": "stdout",
     "output_type": "stream",
     "text": [
      "Fetching data for BTCUSDT from BINANCE...\n",
      "📂 Data for BTCUSDT (2021) saved in Crypto_Historical_Data/BTCUSDT/year=2021/BTCUSDT_2021_historical_data.csv\n",
      "📂 Data for BTCUSDT (2022) saved in Crypto_Historical_Data/BTCUSDT/year=2022/BTCUSDT_2022_historical_data.csv\n",
      "📂 Data for BTCUSDT (2023) saved in Crypto_Historical_Data/BTCUSDT/year=2023/BTCUSDT_2023_historical_data.csv\n",
      "📂 Data for BTCUSDT (2024) saved in Crypto_Historical_Data/BTCUSDT/year=2024/BTCUSDT_2024_historical_data.csv\n",
      "📂 Data for BTCUSDT (2025) saved in Crypto_Historical_Data/BTCUSDT/year=2025/BTCUSDT_2025_historical_data.csv\n",
      "Fetching data for ETHUSDT from BINANCE...\n",
      "📂 Data for ETHUSDT (2021) saved in Crypto_Historical_Data/ETHUSDT/year=2021/ETHUSDT_2021_historical_data.csv\n",
      "📂 Data for ETHUSDT (2022) saved in Crypto_Historical_Data/ETHUSDT/year=2022/ETHUSDT_2022_historical_data.csv\n",
      "📂 Data for ETHUSDT (2023) saved in Crypto_Historical_Data/ETHUSDT/year=2023/ETHUSDT_2023_historical_data.csv\n",
      "📂 Data for ETHUSDT (2024) saved in Crypto_Historical_Data/ETHUSDT/year=2024/ETHUSDT_2024_historical_data.csv\n",
      "📂 Data for ETHUSDT (2025) saved in Crypto_Historical_Data/ETHUSDT/year=2025/ETHUSDT_2025_historical_data.csv\n",
      "Fetching data for XRPUSDT from BINANCE...\n",
      "📂 Data for XRPUSDT (2021) saved in Crypto_Historical_Data/XRPUSDT/year=2021/XRPUSDT_2021_historical_data.csv\n",
      "📂 Data for XRPUSDT (2022) saved in Crypto_Historical_Data/XRPUSDT/year=2022/XRPUSDT_2022_historical_data.csv\n",
      "📂 Data for XRPUSDT (2023) saved in Crypto_Historical_Data/XRPUSDT/year=2023/XRPUSDT_2023_historical_data.csv\n",
      "📂 Data for XRPUSDT (2024) saved in Crypto_Historical_Data/XRPUSDT/year=2024/XRPUSDT_2024_historical_data.csv\n",
      "📂 Data for XRPUSDT (2025) saved in Crypto_Historical_Data/XRPUSDT/year=2025/XRPUSDT_2025_historical_data.csv\n",
      "Fetching data for SOLUSDT from BINANCE...\n",
      "📂 Data for SOLUSDT (2021) saved in Crypto_Historical_Data/SOLUSDT/year=2021/SOLUSDT_2021_historical_data.csv\n",
      "📂 Data for SOLUSDT (2022) saved in Crypto_Historical_Data/SOLUSDT/year=2022/SOLUSDT_2022_historical_data.csv\n",
      "📂 Data for SOLUSDT (2023) saved in Crypto_Historical_Data/SOLUSDT/year=2023/SOLUSDT_2023_historical_data.csv\n",
      "📂 Data for SOLUSDT (2024) saved in Crypto_Historical_Data/SOLUSDT/year=2024/SOLUSDT_2024_historical_data.csv\n",
      "📂 Data for SOLUSDT (2025) saved in Crypto_Historical_Data/SOLUSDT/year=2025/SOLUSDT_2025_historical_data.csv\n",
      "Fetching data for DOGEUSDT from BINANCE...\n",
      "📂 Data for DOGEUSDT (2021) saved in Crypto_Historical_Data/DOGEUSDT/year=2021/DOGEUSDT_2021_historical_data.csv\n",
      "📂 Data for DOGEUSDT (2022) saved in Crypto_Historical_Data/DOGEUSDT/year=2022/DOGEUSDT_2022_historical_data.csv\n",
      "📂 Data for DOGEUSDT (2023) saved in Crypto_Historical_Data/DOGEUSDT/year=2023/DOGEUSDT_2023_historical_data.csv\n",
      "📂 Data for DOGEUSDT (2024) saved in Crypto_Historical_Data/DOGEUSDT/year=2024/DOGEUSDT_2024_historical_data.csv\n",
      "📂 Data for DOGEUSDT (2025) saved in Crypto_Historical_Data/DOGEUSDT/year=2025/DOGEUSDT_2025_historical_data.csv\n",
      "Fetching data for ADAUSDT from BINANCE...\n",
      "📂 Data for ADAUSDT (2021) saved in Crypto_Historical_Data/ADAUSDT/year=2021/ADAUSDT_2021_historical_data.csv\n",
      "📂 Data for ADAUSDT (2022) saved in Crypto_Historical_Data/ADAUSDT/year=2022/ADAUSDT_2022_historical_data.csv\n",
      "📂 Data for ADAUSDT (2023) saved in Crypto_Historical_Data/ADAUSDT/year=2023/ADAUSDT_2023_historical_data.csv\n",
      "📂 Data for ADAUSDT (2024) saved in Crypto_Historical_Data/ADAUSDT/year=2024/ADAUSDT_2024_historical_data.csv\n",
      "📂 Data for ADAUSDT (2025) saved in Crypto_Historical_Data/ADAUSDT/year=2025/ADAUSDT_2025_historical_data.csv\n",
      "Fetching data for SHIBUSDT from BINANCE...\n",
      "📂 Data for SHIBUSDT (2021) saved in Crypto_Historical_Data/SHIBUSDT/year=2021/SHIBUSDT_2021_historical_data.csv\n",
      "📂 Data for SHIBUSDT (2022) saved in Crypto_Historical_Data/SHIBUSDT/year=2022/SHIBUSDT_2022_historical_data.csv\n",
      "📂 Data for SHIBUSDT (2023) saved in Crypto_Historical_Data/SHIBUSDT/year=2023/SHIBUSDT_2023_historical_data.csv\n",
      "📂 Data for SHIBUSDT (2024) saved in Crypto_Historical_Data/SHIBUSDT/year=2024/SHIBUSDT_2024_historical_data.csv\n",
      "📂 Data for SHIBUSDT (2025) saved in Crypto_Historical_Data/SHIBUSDT/year=2025/SHIBUSDT_2025_historical_data.csv\n",
      "Fetching data for DOTUSDT from BINANCE...\n",
      "📂 Data for DOTUSDT (2021) saved in Crypto_Historical_Data/DOTUSDT/year=2021/DOTUSDT_2021_historical_data.csv\n",
      "📂 Data for DOTUSDT (2022) saved in Crypto_Historical_Data/DOTUSDT/year=2022/DOTUSDT_2022_historical_data.csv\n",
      "📂 Data for DOTUSDT (2023) saved in Crypto_Historical_Data/DOTUSDT/year=2023/DOTUSDT_2023_historical_data.csv\n",
      "📂 Data for DOTUSDT (2024) saved in Crypto_Historical_Data/DOTUSDT/year=2024/DOTUSDT_2024_historical_data.csv\n",
      "📂 Data for DOTUSDT (2025) saved in Crypto_Historical_Data/DOTUSDT/year=2025/DOTUSDT_2025_historical_data.csv\n",
      "Fetching data for AAVEUSDT from BINANCE...\n",
      "📂 Data for AAVEUSDT (2021) saved in Crypto_Historical_Data/AAVEUSDT/year=2021/AAVEUSDT_2021_historical_data.csv\n",
      "📂 Data for AAVEUSDT (2022) saved in Crypto_Historical_Data/AAVEUSDT/year=2022/AAVEUSDT_2022_historical_data.csv\n",
      "📂 Data for AAVEUSDT (2023) saved in Crypto_Historical_Data/AAVEUSDT/year=2023/AAVEUSDT_2023_historical_data.csv\n",
      "📂 Data for AAVEUSDT (2024) saved in Crypto_Historical_Data/AAVEUSDT/year=2024/AAVEUSDT_2024_historical_data.csv\n",
      "📂 Data for AAVEUSDT (2025) saved in Crypto_Historical_Data/AAVEUSDT/year=2025/AAVEUSDT_2025_historical_data.csv\n",
      "Fetching data for XLMUSDT from BINANCE...\n",
      "📂 Data for XLMUSDT (2021) saved in Crypto_Historical_Data/XLMUSDT/year=2021/XLMUSDT_2021_historical_data.csv\n",
      "📂 Data for XLMUSDT (2022) saved in Crypto_Historical_Data/XLMUSDT/year=2022/XLMUSDT_2022_historical_data.csv\n",
      "📂 Data for XLMUSDT (2023) saved in Crypto_Historical_Data/XLMUSDT/year=2023/XLMUSDT_2023_historical_data.csv\n",
      "📂 Data for XLMUSDT (2024) saved in Crypto_Historical_Data/XLMUSDT/year=2024/XLMUSDT_2024_historical_data.csv\n",
      "📂 Data for XLMUSDT (2025) saved in Crypto_Historical_Data/XLMUSDT/year=2025/XLMUSDT_2025_historical_data.csv\n",
      "Process completed\n"
     ]
    }
   ],
   "source": [
    "import os\n",
    "import pandas as pd\n",
    "from TradingviewData import TradingViewData, Interval\n",
    "\n",
    "cryptos = [\n",
    "    ('BTCUSDT', 'BINANCE'),\n",
    "    ('ETHUSDT', 'BINANCE'),\n",
    "    ('XRPUSDT', 'BINANCE'),\n",
    "    ('SOLUSDT', 'BINANCE'),\n",
    "    ('DOGEUSDT', 'BINANCE'),\n",
    "    ('ADAUSDT', 'BINANCE'),\n",
    "    ('SHIBUSDT', 'BINANCE'),\n",
    "    ('DOTUSDT', 'BINANCE'),\n",
    "    ('AAVEUSDT', 'BINANCE'),\n",
    "    ('XLMUSDT', 'BINANCE')\n",
    "]\n",
    "\n",
    "main_folder = \"Crypto_Historical_Data\"\n",
    "os.makedirs(main_folder, exist_ok=True)\n",
    "\n",
    "request = TradingViewData()\n",
    "\n",
    "historical_data = {}\n",
    "\n",
    "for symbol, exchange in cryptos:\n",
    "    print(f\"Fetching data for {symbol} from {exchange}...\")\n",
    "    \n",
    "    data = request.get_hist(\n",
    "        symbol=symbol, \n",
    "        exchange=exchange, \n",
    "        interval=Interval.daily,\n",
    "        n_bars=1460\n",
    "    )\n",
    "    \n",
    "    df = pd.DataFrame(data).reset_index()\n",
    "    df['date'] = pd.to_datetime(df['datetime'], unit='s')\n",
    "    df = df[['date', 'open', 'high', 'low', 'close', 'volume']]\n",
    "\n",
    "    coin_folder = os.path.join(main_folder, symbol)\n",
    "    os.makedirs(coin_folder, exist_ok=True)\n",
    "\n",
    "    for year in df['date'].dt.year.unique():\n",
    "        year_folder = os.path.join(coin_folder, f\"year={year}\")\n",
    "        os.makedirs(year_folder, exist_ok=True)\n",
    "        \n",
    "        year_df = df[df['date'].dt.year == year]\n",
    "        file_path = os.path.join(year_folder, f\"{symbol}_{year}_historical_data.csv\")\n",
    "        \n",
    "        year_df.to_csv(file_path, index=False)\n",
    "        print(f\"Data for {symbol} ({year}) saved in {file_path}\")\n",
    "\n",
    "print(\"Process completed\")"
   ]
  }
 ],
 "metadata": {
  "kernelspec": {
   "display_name": "Python 3",
   "language": "python",
   "name": "python3"
  },
  "language_info": {
   "codemirror_mode": {
    "name": "ipython",
    "version": 3
   },
   "file_extension": ".py",
   "mimetype": "text/x-python",
   "name": "python",
   "nbconvert_exporter": "python",
   "pygments_lexer": "ipython3",
   "version": "3.11.11"
  }
 },
 "nbformat": 4,
 "nbformat_minor": 2
}
