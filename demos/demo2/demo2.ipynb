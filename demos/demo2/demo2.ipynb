{
  "cells": [
    {
      "cell_type": "markdown",
      "metadata": {
        "id": "0J7F1UxrO0c-"
      },
      "source": [
        "# Demo 2"
      ]
    },
    {
      "cell_type": "markdown",
      "metadata": {
        "id": "Kpf1dFtbQSDq"
      },
      "source": [
        "## Modelo master-slave"
      ]
    },
    {
      "cell_type": "markdown",
      "metadata": {
        "id": "b2fE_ePuPffC"
      },
      "source": [
        "### Dependencias"
      ]
    },
    {
      "cell_type": "code",
      "execution_count": 1,
      "metadata": {
        "id": "t9apNo4cPdbd"
      },
      "outputs": [],
      "source": [
        "import socket\n",
        "import threading"
      ]
    },
    {
      "cell_type": "markdown",
      "metadata": {
        "id": "oJBrav0fPr8j"
      },
      "source": [
        "### Master"
      ]
    },
    {
      "cell_type": "code",
      "execution_count": 2,
      "metadata": {
        "id": "122FSJJuPjJD"
      },
      "outputs": [],
      "source": [
        "def master(task):\n",
        "    # Crear un socket TCP/IP\n",
        "    master_socket = socket.socket(socket.AF_INET, socket.SOCK_STREAM)\n",
        "\n",
        "    # Conectarse al Slave\n",
        "    master_socket.connect(('localhost', 9999))\n",
        "\n",
        "    try:\n",
        "        # Enviar la tarea al Slave\n",
        "        master_socket.sendall(task.encode())\n",
        "        print(f\"Master - Envió tarea: {task}\")\n",
        "\n",
        "        # Esperar la respuesta del Slave\n",
        "        result = master_socket.recv(1024).decode()\n",
        "        print(f\"Master - Recibió resultado: {result}\")\n",
        "    finally:\n",
        "        # Cerrar la conexión\n",
        "        master_socket.close()\n"
      ]
    },
    {
      "cell_type": "markdown",
      "metadata": {
        "id": "GXGx7FTnPtm-"
      },
      "source": [
        "### Slave"
      ]
    },
    {
      "cell_type": "code",
      "execution_count": 3,
      "metadata": {
        "id": "YZuvQQBHPu3v"
      },
      "outputs": [],
      "source": [
        "def slave():\n",
        "    # Crear un socket TCP/IP\n",
        "    server_socket = socket.socket(socket.AF_INET, socket.SOCK_STREAM)\n",
        "    server_socket.bind(('localhost', 9999))\n",
        "    server_socket.listen(1)\n",
        "    print(\"Slave esperando tareas...\")\n",
        "\n",
        "    while True:\n",
        "        # Esperar a que un cliente se conecte\n",
        "        connection, client_address = server_socket.accept()\n",
        "        try:\n",
        "            print(f\"Slave - Conexión establecida con {client_address}\")\n",
        "\n",
        "            # Recibir la tarea (mensaje) del Master\n",
        "            task = connection.recv(1024).decode()\n",
        "            print(f\"Slave - Recibió tarea: {task}\")\n",
        "\n",
        "            # Procesar la tarea (simulación)\n",
        "            result = f\"Resultado de {task}\"\n",
        "\n",
        "            # Enviar el resultado de vuelta al Master\n",
        "            connection.sendall(result.encode())\n",
        "        finally:\n",
        "            # Cerrar la conexión\n",
        "            connection.close()"
      ]
    },
    {
      "cell_type": "code",
      "execution_count": 4,
      "metadata": {
        "colab": {
          "base_uri": "https://localhost:8080/"
        },
        "id": "7TRf2RMEP3ku",
        "outputId": "ff0d2e3d-5271-4e5b-9131-102ea8f94243"
      },
      "outputs": [
        {
          "name": "stdout",
          "output_type": "stream",
          "text": [
            "Slave esperando tareas...\n"
          ]
        }
      ],
      "source": [
        "slave_thread = threading.Thread(target=slave, daemon=True)\n",
        "slave_thread.start()"
      ]
    },
    {
      "cell_type": "code",
      "execution_count": 5,
      "metadata": {
        "colab": {
          "base_uri": "https://localhost:8080/"
        },
        "id": "LFeBMpefQLVm",
        "outputId": "0a091ad4-98ce-4031-d0a8-41a1eb7a299d"
      },
      "outputs": [
        {
          "name": "stdout",
          "output_type": "stream",
          "text": [
            "Master - Envió tarea: Tarea1\n",
            "Slave - Conexión establecida con ('127.0.0.1', 54308)\n",
            "Slave - Recibió tarea: Tarea1\n",
            "Master - Recibió resultado: Resultado de Tarea1\n"
          ]
        }
      ],
      "source": [
        "# Enviar una tarea desde el Master al Slave\n",
        "master(\"Tarea1\")\n"
      ]
    },
    {
      "cell_type": "code",
      "execution_count": null,
      "metadata": {
        "id": "6DJAkkyxQMH-"
      },
      "outputs": [],
      "source": []
    }
  ],
  "metadata": {
    "colab": {
      "provenance": [],
      "toc_visible": true
    },
    "kernelspec": {
      "display_name": "Python 3",
      "name": "python3"
    },
    "language_info": {
      "codemirror_mode": {
        "name": "ipython",
        "version": 3
      },
      "file_extension": ".py",
      "mimetype": "text/x-python",
      "name": "python",
      "nbconvert_exporter": "python",
      "pygments_lexer": "ipython3",
      "version": "3.11.9"
    }
  },
  "nbformat": 4,
  "nbformat_minor": 0
}
